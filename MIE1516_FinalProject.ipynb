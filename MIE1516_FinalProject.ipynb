{
  "nbformat": 4,
  "nbformat_minor": 0,
  "metadata": {
    "colab": {
      "name": "MIE1516_FinalProject.ipynb",
      "version": "0.3.2",
      "provenance": [],
      "collapsed_sections": []
    },
    "kernelspec": {
      "name": "python3",
      "display_name": "Python 3"
    },
    "accelerator": "GPU"
  },
  "cells": [
    {
      "metadata": {
        "id": "jIYlZOQuDo_T",
        "colab_type": "code",
        "colab": {}
      },
      "cell_type": "code",
      "source": [
        "import os, cv2\n",
        "import numpy as np\n",
        "#import cPickle\n",
        "import _pickle as cPickle\n",
        "import pandas as pd \n",
        "from numpy import argmax\n",
        "import matplotlib.pyplot as plt\n",
        "%matplotlib inline\n",
        "import seaborn as sns\n",
        "from sklearn.metrics import confusion_matrix\n",
        "import tensorflow.python.keras\n",
        "from tensorflow.python.keras.models import Sequential \n",
        "from tensorflow.python.keras.callbacks import ReduceLROnPlateau\n",
        "from tensorflow.python.keras.preprocessing.image import ImageDataGenerator\n",
        "from pathlib import Path\n",
        "from tensorflow.python.keras.models import Model\n",
        "from tensorflow.python.keras import models, layers, optimizers\n",
        "from tensorflow.python.keras.applications import Xception, VGG16\n",
        "from tensorflow.python.keras.layers import Dense, Activation, Dropout, Flatten, GaussianNoise,GlobalAveragePooling2D\n",
        "from tensorflow.python.keras.layers import Conv2D, MaxPooling2D,InputLayer\n",
        "from tensorflow.python.keras import backend as K\n",
        "from tensorflow.python.keras import regularizers\n",
        "from keras.applications import MobileNet\n",
        "from keras.preprocessing import image\n",
        "from keras.applications.mobilenet import preprocess_input\n",
        "K.set_learning_phase(1) \n",
        "from scipy.misc import imsave\n",
        "import keras\n",
        "from keras.applications import vgg16\n",
        "from keras.optimizers import Adam"
      ],
      "execution_count": 0,
      "outputs": []
    },
    {
      "metadata": {
        "id": "yy1PpGFnDvee",
        "colab_type": "code",
        "outputId": "6ee40ba8-4d86-4c03-8b61-c439b29ec7e2",
        "colab": {
          "base_uri": "https://localhost:8080/",
          "height": 35
        }
      },
      "cell_type": "code",
      "source": [
        "from google.colab import drive\n",
        "drive.mount('/content/gdrive', force_remount=True)"
      ],
      "execution_count": 73,
      "outputs": [
        {
          "output_type": "stream",
          "text": [
            "Mounted at /content/gdrive\n"
          ],
          "name": "stdout"
        }
      ]
    },
    {
      "metadata": {
        "id": "tp8mm27HD9vR",
        "colab_type": "code",
        "colab": {}
      },
      "cell_type": "code",
      "source": [
        "os.chdir(\"/content/gdrive/My Drive/Colab Notebooks\")"
      ],
      "execution_count": 0,
      "outputs": []
    },
    {
      "metadata": {
        "id": "yqZ1vHMKbZc7",
        "colab_type": "code",
        "colab": {}
      },
      "cell_type": "code",
      "source": [
        "import scipy.misc\n",
        "\n",
        "for i in range(len(U2_gray_2[500:])):\n",
        "  scipy.misc.imsave(\"Good_gray\" + str(i+500) + \".jpg\", U2_gray_2[i])"
      ],
      "execution_count": 0,
      "outputs": []
    },
    {
      "metadata": {
        "id": "aHXZmJvevoDK",
        "colab_type": "text"
      },
      "cell_type": "markdown",
      "source": [
        "Importing train and validation folders from Google Drive, previous cell stored Numpy arrays of image data gathered from ImageSearch notebook in Good and NG folders"
      ]
    },
    {
      "metadata": {
        "id": "qEXcOeY9mcn_",
        "colab_type": "code",
        "outputId": "80014959-4e44-45a5-e00d-393eb32049dc",
        "colab": {
          "base_uri": "https://localhost:8080/",
          "height": 54
        }
      },
      "cell_type": "code",
      "source": [
        "train_datagen=ImageDataGenerator(preprocessing_function=preprocess_input) \n",
        "val_datagen=ImageDataGenerator(preprocessing_function=preprocess_input) \n",
        "\n",
        "\n",
        "train_generator=train_datagen.flow_from_directory('U2_gray/train', \n",
        "                                                 target_size=(500,500),\n",
        "                                                 color_mode='rgb',\n",
        "                                                 batch_size=1,\n",
        "                                                 class_mode='categorical',\n",
        "                                                 shuffle=True)\n",
        "\n",
        "val_generator=val_datagen.flow_from_directory('U2_gray/val',\n",
        "                                                 target_size=(500,500),\n",
        "                                                 color_mode='rgb',\n",
        "                                                 batch_size=1,\n",
        "                                                 class_mode='categorical',\n",
        "                                                 shuffle=True)\n",
        "\n"
      ],
      "execution_count": 0,
      "outputs": [
        {
          "output_type": "stream",
          "text": [
            "Found 635 images belonging to 2 classes.\n",
            "Found 317 images belonging to 2 classes.\n"
          ],
          "name": "stdout"
        }
      ]
    },
    {
      "metadata": {
        "id": "3jzS9B1O7796",
        "colab_type": "text"
      },
      "cell_type": "markdown",
      "source": [
        "Code adapted from: https://towardsdatascience.com/keras-transfer-learning-for-beginners-6c9b8b7143e"
      ]
    },
    {
      "metadata": {
        "id": "6f14MHMjv-vU",
        "colab_type": "text"
      },
      "cell_type": "markdown",
      "source": [
        "Flow from directory determines categories based on amount of folders within directory and assigns label to each image according to its directory"
      ]
    },
    {
      "metadata": {
        "id": "6hTOWfge-5B0",
        "colab_type": "code",
        "outputId": "9df62f14-3583-4f5d-a57b-7d303e1d35d4",
        "colab": {
          "base_uri": "https://localhost:8080/",
          "height": 872
        }
      },
      "cell_type": "code",
      "source": [
        "vgg = vgg16.VGG16(include_top=False, weights='imagenet', \n",
        "                                     input_shape=(500,500,3))\n",
        "\n",
        "output = vgg.layers[-1].output\n",
        "output = keras.layers.Flatten()(output)\n",
        "vgg_model = Model(vgg.input, output)\n",
        "\n",
        "#vgg_model.trainable = False\n",
        "#for layer in vgg_model.layers:\n",
        "#    layer.trainable = False\n",
        "for layer in vgg_model.layers[:16]:\n",
        "    layer.trainable=False\n",
        "for layer in vgg_model.layers[16:]:\n",
        "    layer.trainable=True\n",
        "\n",
        "input_shape = vgg_model.output_shape[1]\n",
        "\n",
        "vgg_model.summary()"
      ],
      "execution_count": 33,
      "outputs": [
        {
          "output_type": "stream",
          "text": [
            "_________________________________________________________________\n",
            "Layer (type)                 Output Shape              Param #   \n",
            "=================================================================\n",
            "input_12 (InputLayer)        (None, 500, 500, 3)       0         \n",
            "_________________________________________________________________\n",
            "block1_conv1 (Conv2D)        (None, 500, 500, 64)      1792      \n",
            "_________________________________________________________________\n",
            "block1_conv2 (Conv2D)        (None, 500, 500, 64)      36928     \n",
            "_________________________________________________________________\n",
            "block1_pool (MaxPooling2D)   (None, 250, 250, 64)      0         \n",
            "_________________________________________________________________\n",
            "block2_conv1 (Conv2D)        (None, 250, 250, 128)     73856     \n",
            "_________________________________________________________________\n",
            "block2_conv2 (Conv2D)        (None, 250, 250, 128)     147584    \n",
            "_________________________________________________________________\n",
            "block2_pool (MaxPooling2D)   (None, 125, 125, 128)     0         \n",
            "_________________________________________________________________\n",
            "block3_conv1 (Conv2D)        (None, 125, 125, 256)     295168    \n",
            "_________________________________________________________________\n",
            "block3_conv2 (Conv2D)        (None, 125, 125, 256)     590080    \n",
            "_________________________________________________________________\n",
            "block3_conv3 (Conv2D)        (None, 125, 125, 256)     590080    \n",
            "_________________________________________________________________\n",
            "block3_pool (MaxPooling2D)   (None, 62, 62, 256)       0         \n",
            "_________________________________________________________________\n",
            "block4_conv1 (Conv2D)        (None, 62, 62, 512)       1180160   \n",
            "_________________________________________________________________\n",
            "block4_conv2 (Conv2D)        (None, 62, 62, 512)       2359808   \n",
            "_________________________________________________________________\n",
            "block4_conv3 (Conv2D)        (None, 62, 62, 512)       2359808   \n",
            "_________________________________________________________________\n",
            "block4_pool (MaxPooling2D)   (None, 31, 31, 512)       0         \n",
            "_________________________________________________________________\n",
            "block5_conv1 (Conv2D)        (None, 31, 31, 512)       2359808   \n",
            "_________________________________________________________________\n",
            "block5_conv2 (Conv2D)        (None, 31, 31, 512)       2359808   \n",
            "_________________________________________________________________\n",
            "block5_conv3 (Conv2D)        (None, 31, 31, 512)       2359808   \n",
            "_________________________________________________________________\n",
            "block5_pool (MaxPooling2D)   (None, 15, 15, 512)       0         \n",
            "_________________________________________________________________\n",
            "flatten_12 (Flatten)         (None, 115200)            0         \n",
            "=================================================================\n",
            "Total params: 14,714,688\n",
            "Trainable params: 4,719,616\n",
            "Non-trainable params: 9,995,072\n",
            "_________________________________________________________________\n"
          ],
          "name": "stdout"
        }
      ]
    },
    {
      "metadata": {
        "id": "GBEPslEv8IHB",
        "colab_type": "text"
      },
      "cell_type": "markdown",
      "source": [
        "Code adapted from: https://riptutorial.com/keras/example/32608/transfer-learning-using-keras-and-vgg"
      ]
    },
    {
      "metadata": {
        "id": "2aNY2nvnwIhC",
        "colab_type": "text"
      },
      "cell_type": "markdown",
      "source": [
        "VGG16 Network with the last couple layers left as trainable on the dataset to act as feature recognition."
      ]
    },
    {
      "metadata": {
        "id": "PUyoxu70YmiH",
        "colab_type": "code",
        "outputId": "4f03f060-a911-4b19-ec22-6123d72b87dd",
        "colab": {
          "base_uri": "https://localhost:8080/",
          "height": 1108
        }
      },
      "cell_type": "code",
      "source": [
        "from keras.layers import Conv2D, MaxPooling2D, Flatten, Dense, Dropout, InputLayer\n",
        "from keras.models import Sequential\n",
        "from keras import optimizers\n",
        "\n",
        "model = Sequential()\n",
        "model.add(vgg_model)\n",
        "model.add(Dense(512, activation='elu', input_dim=input_shape))\n",
        "model.add(Dropout(0.5))\n",
        "model.add(Dense(2, activation='sigmoid'))\n",
        "\n",
        "model.compile(loss='binary_crossentropy',\n",
        "              optimizer=optimizers.RMSprop(lr=5e-6),\n",
        "              metrics=['accuracy',recall])\n",
        "              \n",
        "history = model.fit_generator(train_generator, steps_per_epoch=len(train_generator), epochs=30,\n",
        "                              validation_data=val_generator, validation_steps=len(val_generator), \n",
        "                              verbose=1)   "
      ],
      "execution_count": 34,
      "outputs": [
        {
          "output_type": "stream",
          "text": [
            "Epoch 1/30\n",
            "635/635 [==============================] - 129s 204ms/step - loss: 0.2539 - acc: 0.8874 - recall: 0.8913 - val_loss: 0.3240 - val_acc: 0.8707 - val_recall: 0.8675\n",
            "Epoch 2/30\n",
            "635/635 [==============================] - 127s 200ms/step - loss: 0.1130 - acc: 0.9591 - recall: 0.9622 - val_loss: 0.0946 - val_acc: 0.9700 - val_recall: 0.9653\n",
            "Epoch 3/30\n",
            "635/635 [==============================] - 127s 200ms/step - loss: 0.0688 - acc: 0.9780 - recall: 0.9780 - val_loss: 0.1936 - val_acc: 0.9495 - val_recall: 0.9495\n",
            "Epoch 4/30\n",
            "635/635 [==============================] - 127s 200ms/step - loss: 0.0627 - acc: 0.9835 - recall: 0.9843 - val_loss: 0.1200 - val_acc: 0.9685 - val_recall: 0.9716\n",
            "Epoch 5/30\n",
            "635/635 [==============================] - 127s 200ms/step - loss: 0.0579 - acc: 0.9850 - recall: 0.9858 - val_loss: 0.1168 - val_acc: 0.9732 - val_recall: 0.9716\n",
            "Epoch 6/30\n",
            "635/635 [==============================] - 127s 200ms/step - loss: 0.0426 - acc: 0.9890 - recall: 0.9906 - val_loss: 0.0613 - val_acc: 0.9826 - val_recall: 0.9842\n",
            "Epoch 7/30\n",
            "635/635 [==============================] - 127s 199ms/step - loss: 0.0413 - acc: 0.9921 - recall: 0.9937 - val_loss: 0.0971 - val_acc: 0.9779 - val_recall: 0.9748\n",
            "Epoch 8/30\n",
            "635/635 [==============================] - 127s 199ms/step - loss: 0.0331 - acc: 0.9890 - recall: 0.9874 - val_loss: 0.1633 - val_acc: 0.9653 - val_recall: 0.9653\n",
            "Epoch 9/30\n",
            "635/635 [==============================] - 127s 200ms/step - loss: 0.0117 - acc: 0.9937 - recall: 0.9921 - val_loss: 0.0906 - val_acc: 0.9842 - val_recall: 0.9842\n",
            "Epoch 10/30\n",
            "635/635 [==============================] - 127s 200ms/step - loss: 0.0126 - acc: 0.9961 - recall: 0.9969 - val_loss: 0.0500 - val_acc: 0.9905 - val_recall: 0.9905\n",
            "Epoch 11/30\n",
            "635/635 [==============================] - 127s 199ms/step - loss: 0.0088 - acc: 0.9969 - recall: 0.9969 - val_loss: 0.0902 - val_acc: 0.9811 - val_recall: 0.9811\n",
            "Epoch 12/30\n",
            "635/635 [==============================] - 127s 199ms/step - loss: 0.0050 - acc: 0.9976 - recall: 0.9984 - val_loss: 0.0955 - val_acc: 0.9858 - val_recall: 0.9874\n",
            "Epoch 13/30\n",
            "635/635 [==============================] - 127s 199ms/step - loss: 0.0050 - acc: 0.9984 - recall: 0.9984 - val_loss: 0.0849 - val_acc: 0.9858 - val_recall: 0.9874\n",
            "Epoch 14/30\n",
            "635/635 [==============================] - 127s 200ms/step - loss: 0.0012 - acc: 0.9992 - recall: 1.0000 - val_loss: 0.1192 - val_acc: 0.9842 - val_recall: 0.9811\n",
            "Epoch 15/30\n",
            "635/635 [==============================] - 127s 200ms/step - loss: 0.0049 - acc: 0.9984 - recall: 0.9984 - val_loss: 0.0285 - val_acc: 0.9905 - val_recall: 0.9842\n",
            "Epoch 16/30\n",
            "635/635 [==============================] - 127s 200ms/step - loss: 0.0031 - acc: 0.9984 - recall: 0.9984 - val_loss: 0.1452 - val_acc: 0.9826 - val_recall: 0.9842\n",
            "Epoch 17/30\n",
            "635/635 [==============================] - 127s 199ms/step - loss: 3.9592e-04 - acc: 1.0000 - recall: 1.0000 - val_loss: 0.1607 - val_acc: 0.9811 - val_recall: 0.9811\n",
            "Epoch 18/30\n",
            "635/635 [==============================] - 127s 199ms/step - loss: 8.2043e-05 - acc: 1.0000 - recall: 1.0000 - val_loss: 0.0972 - val_acc: 0.9842 - val_recall: 0.9842\n",
            "Epoch 19/30\n",
            "635/635 [==============================] - 127s 200ms/step - loss: 1.0431e-05 - acc: 1.0000 - recall: 1.0000 - val_loss: 0.1353 - val_acc: 0.9842 - val_recall: 0.9842\n",
            "Epoch 20/30\n",
            "635/635 [==============================] - 127s 199ms/step - loss: 1.4259e-05 - acc: 1.0000 - recall: 1.0000 - val_loss: 0.1001 - val_acc: 0.9842 - val_recall: 0.9842\n",
            "Epoch 21/30\n",
            "635/635 [==============================] - 127s 200ms/step - loss: 6.9352e-05 - acc: 1.0000 - recall: 1.0000 - val_loss: 0.1020 - val_acc: 0.9890 - val_recall: 0.9905\n",
            "Epoch 22/30\n",
            "635/635 [==============================] - 127s 200ms/step - loss: 8.3751e-06 - acc: 1.0000 - recall: 1.0000 - val_loss: 0.1193 - val_acc: 0.9858 - val_recall: 0.9874\n",
            "Epoch 23/30\n",
            "635/635 [==============================] - 127s 199ms/step - loss: 1.1297e-06 - acc: 1.0000 - recall: 1.0000 - val_loss: 0.0919 - val_acc: 0.9905 - val_recall: 0.9905\n",
            "Epoch 24/30\n",
            "635/635 [==============================] - 126s 199ms/step - loss: 5.3061e-07 - acc: 1.0000 - recall: 1.0000 - val_loss: 0.1750 - val_acc: 0.9826 - val_recall: 0.9842\n",
            "Epoch 25/30\n",
            "635/635 [==============================] - 126s 199ms/step - loss: 1.2182e-06 - acc: 1.0000 - recall: 1.0000 - val_loss: 0.0749 - val_acc: 0.9890 - val_recall: 0.9905\n",
            "Epoch 26/30\n",
            "635/635 [==============================] - 127s 199ms/step - loss: 5.7314e-07 - acc: 1.0000 - recall: 1.0000 - val_loss: 0.1396 - val_acc: 0.9811 - val_recall: 0.9811\n",
            "Epoch 27/30\n",
            "635/635 [==============================] - 127s 199ms/step - loss: 1.5108e-07 - acc: 1.0000 - recall: 1.0000 - val_loss: 0.1710 - val_acc: 0.9811 - val_recall: 0.9811\n",
            "Epoch 28/30\n",
            "635/635 [==============================] - 127s 200ms/step - loss: 2.9919e-07 - acc: 1.0000 - recall: 1.0000 - val_loss: 0.0915 - val_acc: 0.9890 - val_recall: 0.9874\n",
            "Epoch 29/30\n",
            "635/635 [==============================] - 128s 202ms/step - loss: 1.2939e-07 - acc: 1.0000 - recall: 1.0000 - val_loss: 0.1247 - val_acc: 0.9811 - val_recall: 0.9811\n",
            "Epoch 30/30\n",
            "635/635 [==============================] - 128s 202ms/step - loss: 1.5397e-07 - acc: 1.0000 - recall: 1.0000 - val_loss: 0.1415 - val_acc: 0.9811 - val_recall: 0.9811\n"
          ],
          "name": "stdout"
        }
      ]
    },
    {
      "metadata": {
        "id": "jwfdEvdWbFow",
        "colab_type": "code",
        "colab": {}
      },
      "cell_type": "code",
      "source": [
        "def recall(y_true, y_pred):\n",
        "    \"\"\"Recall metric.\n",
        "    Only computes a batch-wise average of recall.\n",
        "    Computes the recall, a metric for multi-label classification of\n",
        "    how many relevant items are selected.\n",
        "    \"\"\"\n",
        "    true_positives = K.sum(K.round(K.clip(y_true * y_pred, 0, 1)))\n",
        "    possible_positives = K.sum(K.round(K.clip(y_true, 0, 1)))\n",
        "    recall = true_positives / (possible_positives + K.epsilon())\n",
        "    return recall\n"
      ],
      "execution_count": 0,
      "outputs": []
    },
    {
      "metadata": {
        "id": "GhnHyvjCwV4B",
        "colab_type": "text"
      },
      "cell_type": "markdown",
      "source": [
        "Code taken from: https://github.com/GeekLiB/keras/blob/master/keras/metrics.py"
      ]
    },
    {
      "metadata": {
        "id": "QMRc2sBkexmY",
        "colab_type": "code",
        "colab": {}
      },
      "cell_type": "code",
      "source": [
        "def show_curve(history):\n",
        "    plt.plot(history.history['val_recall'])\n",
        "    plt.plot(history.history['val_acc'])\n",
        "    plt.plot(history.history['acc'])\n",
        "    plt.title('model accuracy')\n",
        "    plt.ylabel('accuracy')\n",
        "    plt.xlabel('epoch')\n",
        "    plt.legend(['recall', 'test', 'train'], loc='upper left')\n",
        "    plt.show()"
      ],
      "execution_count": 0,
      "outputs": []
    },
    {
      "metadata": {
        "id": "g9SaR9OBmYYp",
        "colab_type": "code",
        "outputId": "e0e414a6-8e5c-48ce-af2c-1b6eb366ad72",
        "colab": {
          "base_uri": "https://localhost:8080/",
          "height": 376
        }
      },
      "cell_type": "code",
      "source": [
        "show_curve(history)"
      ],
      "execution_count": 35,
      "outputs": [
        {
          "output_type": "display_data",
          "data": {
            "image/png": "[encoded data removed]",
            "text/plain": [
              "<Figure size 576x396 with 1 Axes>"
            ]
          },
          "metadata": {
            "tags": []
          }
        }
      ]
    },
    {
      "metadata": {
        "id": "-fJ1DEWa3eJ1",
        "colab_type": "code",
        "outputId": "0e0455cb-ef47-4001-ee8c-9b1cf7a733a2",
        "colab": {
          "base_uri": "https://localhost:8080/",
          "height": 35
        }
      },
      "cell_type": "code",
      "source": [
        "os.chdir(\"/content/gdrive/My Drive/Colab Notebooks\")\n",
        "test_datagen=ImageDataGenerator(preprocessing_function=preprocess_input) #included in our dependencies\n",
        "test_generator=test_datagen.flow_from_directory('U2_gray/test',\n",
        "                                                 target_size=(500,500),\n",
        "                                                 color_mode='rgb',\n",
        "                                                 batch_size=1,\n",
        "                                                 class_mode='categorical',\n",
        "                                                 shuffle=False)"
      ],
      "execution_count": 109,
      "outputs": [
        {
          "output_type": "stream",
          "text": [
            "Found 130 images belonging to 2 classes.\n"
          ],
          "name": "stdout"
        }
      ]
    },
    {
      "metadata": {
        "id": "2d0tdLaU41Zs",
        "colab_type": "code",
        "colab": {}
      },
      "cell_type": "code",
      "source": [
        "Tru = test_generator.labels"
      ],
      "execution_count": 0,
      "outputs": []
    },
    {
      "metadata": {
        "id": "MEEJ-UYw4mCN",
        "colab_type": "code",
        "outputId": "ae573c8b-b840-4e5a-e56a-8df8c15ef756",
        "colab": {
          "base_uri": "https://localhost:8080/",
          "height": 35
        }
      },
      "cell_type": "code",
      "source": [
        "predictions = model.predict_generator(test_generator,steps = 130, verbose = 1)"
      ],
      "execution_count": 112,
      "outputs": [
        {
          "output_type": "stream",
          "text": [
            "130/130 [==============================] - 12s 93ms/step\n"
          ],
          "name": "stdout"
        }
      ]
    },
    {
      "metadata": {
        "id": "AQkzUS5OYZD1",
        "colab_type": "code",
        "colab": {
          "base_uri": "https://localhost:8080/",
          "height": 2381
        },
        "outputId": "1f9904a2-68c6-4a68-9ad4-0ee2668fcb88"
      },
      "cell_type": "code",
      "source": [
        "for i in range(len(Tru)):\n",
        "\tprint(\"X=%s, Actual=%s\" % (predictions[i], Tru[i]))"
      ],
      "execution_count": 113,
      "outputs": [
        {
          "output_type": "stream",
          "text": [
            "X=[1.0000000e+00 2.6082082e-16], Actual=0\n",
            "X=[1.0000000e+00 1.5357802e-16], Actual=0\n",
            "X=[1.0000000e+00 1.8376394e-16], Actual=0\n",
            "X=[1.0000000e+00 1.8077146e-16], Actual=0\n",
            "X=[1.000000e+00 5.797364e-17], Actual=0\n",
            "X=[1.000000e+00 9.506422e-09], Actual=0\n",
            "X=[1.000000e+00 1.644321e-08], Actual=0\n",
            "X=[1.0000000e+00 1.1821121e-12], Actual=0\n",
            "X=[1.000000e+00 9.738085e-12], Actual=0\n",
            "X=[1.0000000e+00 3.9328383e-16], Actual=0\n",
            "X=[1.0000000e+00 1.5907261e-13], Actual=0\n",
            "X=[1.00000e+00 6.22967e-14], Actual=0\n",
            "X=[1.0000000e+00 5.0465426e-12], Actual=0\n",
            "X=[1.0000000e+00 2.6537373e-12], Actual=0\n",
            "X=[1.0000000e+00 2.8855222e-11], Actual=0\n",
            "X=[1.0000000e+00 1.1505068e-13], Actual=0\n",
            "X=[1.000000e+00 3.939949e-12], Actual=0\n",
            "X=[1.000000e+00 4.385257e-12], Actual=0\n",
            "X=[1.0000000e+00 5.1104235e-16], Actual=0\n",
            "X=[1.0000000e+00 8.4057686e-14], Actual=0\n",
            "X=[1.0000000e+00 7.1549715e-12], Actual=0\n",
            "X=[1.000000e+00 9.567723e-13], Actual=0\n",
            "X=[1.0000000e+00 1.0994905e-11], Actual=0\n",
            "X=[1.0000000e+00 1.2044452e-13], Actual=0\n",
            "X=[1.00000e+00 1.33548e-16], Actual=0\n",
            "X=[0.16913347 0.9605622 ], Actual=0\n",
            "X=[1.4945141e-13 1.0000000e+00], Actual=1\n",
            "X=[3.2587003e-10 1.0000000e+00], Actual=1\n",
            "X=[2.9621015e-12 1.0000000e+00], Actual=1\n",
            "X=[2.2227162e-13 1.0000000e+00], Actual=1\n",
            "X=[1.9934209e-14 1.0000000e+00], Actual=1\n",
            "X=[4.5165472e-11 1.0000000e+00], Actual=1\n",
            "X=[1.9147175e-12 1.0000000e+00], Actual=1\n",
            "X=[2.3413219e-15 1.0000000e+00], Actual=1\n",
            "X=[4.307101e-17 1.000000e+00], Actual=1\n",
            "X=[2.8269769e-14 1.0000000e+00], Actual=1\n",
            "X=[9.841356e-13 1.000000e+00], Actual=1\n",
            "X=[1.5309021e-12 1.0000000e+00], Actual=1\n",
            "X=[1.1655106e-13 1.0000000e+00], Actual=1\n",
            "X=[1.00864955e-10 1.00000000e+00], Actual=1\n",
            "X=[2.808775e-09 1.000000e+00], Actual=1\n",
            "X=[3.7046411e-07 9.9999964e-01], Actual=1\n",
            "X=[2.57905e-13 1.00000e+00], Actual=1\n",
            "X=[7.839713e-05 9.999013e-01], Actual=1\n",
            "X=[8.0630386e-10 1.0000000e+00], Actual=1\n",
            "X=[3.8752787e-16 1.0000000e+00], Actual=1\n",
            "X=[2.5808027e-16 1.0000000e+00], Actual=1\n",
            "X=[7.147014e-21 1.000000e+00], Actual=1\n",
            "X=[3.2275457e-16 1.0000000e+00], Actual=1\n",
            "X=[2.6100693e-16 1.0000000e+00], Actual=1\n",
            "X=[6.978752e-17 1.000000e+00], Actual=1\n",
            "X=[2.6452195e-14 1.0000000e+00], Actual=1\n",
            "X=[1.2546443e-12 1.0000000e+00], Actual=1\n",
            "X=[2.0742864e-13 1.0000000e+00], Actual=1\n",
            "X=[6.94042e-12 1.00000e+00], Actual=1\n",
            "X=[6.931903e-15 1.000000e+00], Actual=1\n",
            "X=[3.1206504e-17 1.0000000e+00], Actual=1\n",
            "X=[2.9112666e-15 1.0000000e+00], Actual=1\n",
            "X=[2.8331459e-11 1.0000000e+00], Actual=1\n",
            "X=[1.4859818e-16 1.0000000e+00], Actual=1\n",
            "X=[2.2123664e-13 1.0000000e+00], Actual=1\n",
            "X=[3.0917354e-19 1.0000000e+00], Actual=1\n",
            "X=[7.687448e-15 1.000000e+00], Actual=1\n",
            "X=[2.6487e-20 1.0000e+00], Actual=1\n",
            "X=[4.0727557e-11 1.0000000e+00], Actual=1\n",
            "X=[8.091021e-16 1.000000e+00], Actual=1\n",
            "X=[8.811072e-17 1.000000e+00], Actual=1\n",
            "X=[1.6797907e-15 1.0000000e+00], Actual=1\n",
            "X=[4.052548e-14 1.000000e+00], Actual=1\n",
            "X=[8.658726e-11 1.000000e+00], Actual=1\n",
            "X=[5.1070406e-04 9.9964499e-01], Actual=1\n",
            "X=[6.2956453e-09 1.0000000e+00], Actual=1\n",
            "X=[7.628226e-10 1.000000e+00], Actual=1\n",
            "X=[4.996347e-12 1.000000e+00], Actual=1\n",
            "X=[2.7307712e-10 1.0000000e+00], Actual=1\n",
            "X=[1.2266276e-13 1.0000000e+00], Actual=1\n",
            "X=[7.470683e-15 1.000000e+00], Actual=1\n",
            "X=[7.0454473e-07 9.9999964e-01], Actual=1\n",
            "X=[6.00092e-10 1.00000e+00], Actual=1\n",
            "X=[0.00314351 0.9978465 ], Actual=1\n",
            "X=[0.00151255 0.9990478 ], Actual=1\n",
            "X=[3.944119e-07 9.999999e-01], Actual=1\n",
            "X=[2.0570152e-08 1.0000000e+00], Actual=1\n",
            "X=[3.0679175e-06 9.9999857e-01], Actual=1\n",
            "X=[3.0644e-08 1.0000e+00], Actual=1\n",
            "X=[5.5436240e-06 9.9999774e-01], Actual=1\n",
            "X=[1.0884796e-11 1.0000000e+00], Actual=1\n",
            "X=[5.999506e-08 1.000000e+00], Actual=1\n",
            "X=[1.0640973e-10 1.0000000e+00], Actual=1\n",
            "X=[1.1613587e-07 9.9999988e-01], Actual=1\n",
            "X=[1.8809166e-12 1.0000000e+00], Actual=1\n",
            "X=[3.4703684e-05 9.9997675e-01], Actual=1\n",
            "X=[1.1444925e-09 1.0000000e+00], Actual=1\n",
            "X=[1.9582796e-10 1.0000000e+00], Actual=1\n",
            "X=[1.9418471e-10 1.0000000e+00], Actual=1\n",
            "X=[1.1718016e-08 1.0000000e+00], Actual=1\n",
            "X=[3.9004047e-11 1.0000000e+00], Actual=1\n",
            "X=[1.3546501e-11 1.0000000e+00], Actual=1\n",
            "X=[9.693116e-22 1.000000e+00], Actual=1\n",
            "X=[6.902692e-15 1.000000e+00], Actual=1\n",
            "X=[5.2793137e-10 1.0000000e+00], Actual=1\n",
            "X=[1.3649936e-11 1.0000000e+00], Actual=1\n",
            "X=[2.0699135e-11 1.0000000e+00], Actual=1\n",
            "X=[5.166174e-10 1.000000e+00], Actual=1\n",
            "X=[1.4032307e-08 1.0000000e+00], Actual=1\n",
            "X=[2.9052032e-06 9.9999845e-01], Actual=1\n",
            "X=[9.164832e-16 1.000000e+00], Actual=1\n",
            "X=[3.9125134e-18 1.0000000e+00], Actual=1\n",
            "X=[1.25916855e-11 1.00000000e+00], Actual=1\n",
            "X=[1.2508301e-13 1.0000000e+00], Actual=1\n",
            "X=[2.9662048e-13 1.0000000e+00], Actual=1\n",
            "X=[2.0099644e-10 1.0000000e+00], Actual=1\n",
            "X=[5.791328e-10 1.000000e+00], Actual=1\n",
            "X=[2.6475212e-14 1.0000000e+00], Actual=1\n",
            "X=[1.6651752e-10 1.0000000e+00], Actual=1\n",
            "X=[1.0245382e-12 1.0000000e+00], Actual=1\n",
            "X=[2.7078417e-07 9.9999964e-01], Actual=1\n",
            "X=[2.955971e-09 1.000000e+00], Actual=1\n",
            "X=[2.0281473e-15 1.0000000e+00], Actual=1\n",
            "X=[6.188363e-10 1.000000e+00], Actual=1\n",
            "X=[1.0027105e-18 1.0000000e+00], Actual=1\n",
            "X=[7.7819415e-18 1.0000000e+00], Actual=1\n",
            "X=[8.3377655e-17 1.0000000e+00], Actual=1\n",
            "X=[1.2542791e-18 1.0000000e+00], Actual=1\n",
            "X=[3.901891e-12 1.000000e+00], Actual=1\n",
            "X=[1.7184913e-11 1.0000000e+00], Actual=1\n",
            "X=[8.606895e-14 1.000000e+00], Actual=1\n",
            "X=[2.410356e-18 1.000000e+00], Actual=1\n",
            "X=[7.2678185e-14 1.0000000e+00], Actual=1\n",
            "X=[1.8812711e-09 1.0000000e+00], Actual=1\n"
          ],
          "name": "stdout"
        }
      ]
    },
    {
      "metadata": {
        "id": "rnlFUD-_waW7",
        "colab_type": "text"
      },
      "cell_type": "markdown",
      "source": [
        "Comparing predicted results to expected results from test set, which model has never seen before. 25/26 defects were correctly identified and 104/104 good images were identified as such."
      ]
    },
    {
      "metadata": {
        "id": "JIzLkOm1M6Wu",
        "colab_type": "code",
        "colab": {}
      },
      "cell_type": "code",
      "source": [
        ""
      ],
      "execution_count": 0,
      "outputs": []
    }
  ]
}